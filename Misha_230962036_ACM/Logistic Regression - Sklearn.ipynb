{
 "cells": [
  {
   "cell_type": "code",
   "execution_count": 35,
   "id": "0d114024-5914-41cf-b0a0-e9f7f54bb1d8",
   "metadata": {},
   "outputs": [],
   "source": [
    "import pandas as pd\n",
    "import numpy as np\n",
    "from matplotlib import pyplot as plt"
   ]
  },
  {
   "cell_type": "code",
   "execution_count": 36,
   "id": "80733e75-d769-4560-86e5-4cf3f3fc0cc7",
   "metadata": {},
   "outputs": [
    {
     "data": {
      "text/html": [
       "<div>\n",
       "<style scoped>\n",
       "    .dataframe tbody tr th:only-of-type {\n",
       "        vertical-align: middle;\n",
       "    }\n",
       "\n",
       "    .dataframe tbody tr th {\n",
       "        vertical-align: top;\n",
       "    }\n",
       "\n",
       "    .dataframe thead th {\n",
       "        text-align: right;\n",
       "    }\n",
       "</style>\n",
       "<table border=\"1\" class=\"dataframe\">\n",
       "  <thead>\n",
       "    <tr style=\"text-align: right;\">\n",
       "      <th></th>\n",
       "      <th>Rainfall</th>\n",
       "      <th>RainTomorrow</th>\n",
       "    </tr>\n",
       "  </thead>\n",
       "  <tbody>\n",
       "    <tr>\n",
       "      <th>0</th>\n",
       "      <td>0.6</td>\n",
       "      <td>0.0</td>\n",
       "    </tr>\n",
       "    <tr>\n",
       "      <th>1</th>\n",
       "      <td>0.0</td>\n",
       "      <td>0.0</td>\n",
       "    </tr>\n",
       "    <tr>\n",
       "      <th>2</th>\n",
       "      <td>0.0</td>\n",
       "      <td>0.0</td>\n",
       "    </tr>\n",
       "    <tr>\n",
       "      <th>3</th>\n",
       "      <td>0.0</td>\n",
       "      <td>0.0</td>\n",
       "    </tr>\n",
       "    <tr>\n",
       "      <th>4</th>\n",
       "      <td>1.0</td>\n",
       "      <td>0.0</td>\n",
       "    </tr>\n",
       "  </tbody>\n",
       "</table>\n",
       "</div>"
      ],
      "text/plain": [
       "   Rainfall  RainTomorrow\n",
       "0       0.6           0.0\n",
       "1       0.0           0.0\n",
       "2       0.0           0.0\n",
       "3       0.0           0.0\n",
       "4       1.0           0.0"
      ]
     },
     "execution_count": 36,
     "metadata": {},
     "output_type": "execute_result"
    }
   ],
   "source": [
    "df = pd.read_csv(\"C:\\\\Users\\\\misha\\\\Desktop\\\\Important Stuff\\\\Python Programs\\\\CSV Files\\\\Logistic Regression Dataset.csv\")\n",
    "df.RainTomorrow = df.RainTomorrow.map({'No' : 0, 'Yes' : 1})\n",
    "df.head()"
   ]
  },
  {
   "cell_type": "code",
   "execution_count": 37,
   "id": "d02686b8-cfb1-4a04-9e84-a272a7107c40",
   "metadata": {},
   "outputs": [
    {
     "data": {
      "image/png": "[encoded data removed]",
      "text/plain": [
       "<Figure size 640x480 with 1 Axes>"
      ]
     },
     "metadata": {},
     "output_type": "display_data"
    }
   ],
   "source": [
    "plt.scatter(df.Rainfall, df.RainTomorrow, marker = '+', color = 'red')\n",
    "plt.show()"
   ]
  },
  {
   "cell_type": "code",
   "execution_count": 38,
   "id": "682d391f-cbf7-4702-8cbe-b9fd561b09b6",
   "metadata": {},
   "outputs": [],
   "source": [
    "from sklearn.model_selection import train_test_split"
   ]
  },
  {
   "cell_type": "code",
   "execution_count": 39,
   "id": "d90b9645-aab9-4944-bf67-3a7a35401661",
   "metadata": {},
   "outputs": [],
   "source": [
    "X_train, X_test, y_train, y_test = train_test_split(df[['Rainfall']], df.RainTomorrow)"
   ]
  },
  {
   "cell_type": "code",
   "execution_count": 40,
   "id": "212847f0-280e-4947-8ca7-9b39804ad04e",
   "metadata": {},
   "outputs": [
    {
     "data": {
      "text/html": [
       "<div>\n",
       "<style scoped>\n",
       "    .dataframe tbody tr th:only-of-type {\n",
       "        vertical-align: middle;\n",
       "    }\n",
       "\n",
       "    .dataframe tbody tr th {\n",
       "        vertical-align: top;\n",
       "    }\n",
       "\n",
       "    .dataframe thead th {\n",
       "        text-align: right;\n",
       "    }\n",
       "</style>\n",
       "<table border=\"1\" class=\"dataframe\">\n",
       "  <thead>\n",
       "    <tr style=\"text-align: right;\">\n",
       "      <th></th>\n",
       "      <th>Rainfall</th>\n",
       "    </tr>\n",
       "  </thead>\n",
       "  <tbody>\n",
       "    <tr>\n",
       "      <th>864</th>\n",
       "      <td>1.8</td>\n",
       "    </tr>\n",
       "    <tr>\n",
       "      <th>618</th>\n",
       "      <td>8.2</td>\n",
       "    </tr>\n",
       "    <tr>\n",
       "      <th>971</th>\n",
       "      <td>0.0</td>\n",
       "    </tr>\n",
       "    <tr>\n",
       "      <th>915</th>\n",
       "      <td>15.4</td>\n",
       "    </tr>\n",
       "    <tr>\n",
       "      <th>121</th>\n",
       "      <td>0.0</td>\n",
       "    </tr>\n",
       "    <tr>\n",
       "      <th>...</th>\n",
       "      <td>...</td>\n",
       "    </tr>\n",
       "    <tr>\n",
       "      <th>965</th>\n",
       "      <td>0.0</td>\n",
       "    </tr>\n",
       "    <tr>\n",
       "      <th>367</th>\n",
       "      <td>0.0</td>\n",
       "    </tr>\n",
       "    <tr>\n",
       "      <th>692</th>\n",
       "      <td>2.4</td>\n",
       "    </tr>\n",
       "    <tr>\n",
       "      <th>321</th>\n",
       "      <td>0.0</td>\n",
       "    </tr>\n",
       "    <tr>\n",
       "      <th>540</th>\n",
       "      <td>10.4</td>\n",
       "    </tr>\n",
       "  </tbody>\n",
       "</table>\n",
       "<p>250 rows × 1 columns</p>\n",
       "</div>"
      ],
      "text/plain": [
       "     Rainfall\n",
       "864       1.8\n",
       "618       8.2\n",
       "971       0.0\n",
       "915      15.4\n",
       "121       0.0\n",
       "..        ...\n",
       "965       0.0\n",
       "367       0.0\n",
       "692       2.4\n",
       "321       0.0\n",
       "540      10.4\n",
       "\n",
       "[250 rows x 1 columns]"
      ]
     },
     "execution_count": 40,
     "metadata": {},
     "output_type": "execute_result"
    }
   ],
   "source": [
    "X_test"
   ]
  },
  {
   "cell_type": "code",
   "execution_count": 41,
   "id": "c8566e45-513d-4d48-a505-a97e65bcf4fb",
   "metadata": {},
   "outputs": [],
   "source": [
    "from sklearn.linear_model import LogisticRegression\n",
    "model = LogisticRegression()"
   ]
  },
  {
   "cell_type": "code",
   "execution_count": 48,
   "id": "a15d2884-1f8d-43f1-8eec-3ed3e95ec952",
   "metadata": {},
   "outputs": [
    {
     "data": {
      "text/html": [
       "<style>#sk-container-id-3 {color: black;}#sk-container-id-3 pre{padding: 0;}#sk-container-id-3 div.sk-toggleable {background-color: white;}#sk-container-id-3 label.sk-toggleable__label {cursor: pointer;display: block;width: 100%;margin-bottom: 0;padding: 0.3em;box-sizing: border-box;text-align: center;}#sk-container-id-3 label.sk-toggleable__label-arrow:before {content: \"▸\";float: left;margin-right: 0.25em;color: #696969;}#sk-container-id-3 label.sk-toggleable__label-arrow:hover:before {color: black;}#sk-container-id-3 div.sk-estimator:hover label.sk-toggleable__label-arrow:before {color: black;}#sk-container-id-3 div.sk-toggleable__content {max-height: 0;max-width: 0;overflow: hidden;text-align: left;background-color: #f0f8ff;}#sk-container-id-3 div.sk-toggleable__content pre {margin: 0.2em;color: black;border-radius: 0.25em;background-color: #f0f8ff;}#sk-container-id-3 input.sk-toggleable__control:checked~div.sk-toggleable__content {max-height: 200px;max-width: 100%;overflow: auto;}#sk-container-id-3 input.sk-toggleable__control:checked~label.sk-toggleable__label-arrow:before {content: \"▾\";}#sk-container-id-3 div.sk-estimator input.sk-toggleable__control:checked~label.sk-toggleable__label {background-color: #d4ebff;}#sk-container-id-3 div.sk-label input.sk-toggleable__control:checked~label.sk-toggleable__label {background-color: #d4ebff;}#sk-container-id-3 input.sk-hidden--visually {border: 0;clip: rect(1px 1px 1px 1px);clip: rect(1px, 1px, 1px, 1px);height: 1px;margin: -1px;overflow: hidden;padding: 0;position: absolute;width: 1px;}#sk-container-id-3 div.sk-estimator {font-family: monospace;background-color: #f0f8ff;border: 1px dotted black;border-radius: 0.25em;box-sizing: border-box;margin-bottom: 0.5em;}#sk-container-id-3 div.sk-estimator:hover {background-color: #d4ebff;}#sk-container-id-3 div.sk-parallel-item::after {content: \"\";width: 100%;border-bottom: 1px solid gray;flex-grow: 1;}#sk-container-id-3 div.sk-label:hover label.sk-toggleable__label {background-color: #d4ebff;}#sk-container-id-3 div.sk-serial::before {content: \"\";position: absolute;border-left: 1px solid gray;box-sizing: border-box;top: 0;bottom: 0;left: 50%;z-index: 0;}#sk-container-id-3 div.sk-serial {display: flex;flex-direction: column;align-items: center;background-color: white;padding-right: 0.2em;padding-left: 0.2em;position: relative;}#sk-container-id-3 div.sk-item {position: relative;z-index: 1;}#sk-container-id-3 div.sk-parallel {display: flex;align-items: stretch;justify-content: center;background-color: white;position: relative;}#sk-container-id-3 div.sk-item::before, #sk-container-id-3 div.sk-parallel-item::before {content: \"\";position: absolute;border-left: 1px solid gray;box-sizing: border-box;top: 0;bottom: 0;left: 50%;z-index: -1;}#sk-container-id-3 div.sk-parallel-item {display: flex;flex-direction: column;z-index: 1;position: relative;background-color: white;}#sk-container-id-3 div.sk-parallel-item:first-child::after {align-self: flex-end;width: 50%;}#sk-container-id-3 div.sk-parallel-item:last-child::after {align-self: flex-start;width: 50%;}#sk-container-id-3 div.sk-parallel-item:only-child::after {width: 0;}#sk-container-id-3 div.sk-dashed-wrapped {border: 1px dashed gray;margin: 0 0.4em 0.5em 0.4em;box-sizing: border-box;padding-bottom: 0.4em;background-color: white;}#sk-container-id-3 div.sk-label label {font-family: monospace;font-weight: bold;display: inline-block;line-height: 1.2em;}#sk-container-id-3 div.sk-label-container {text-align: center;}#sk-container-id-3 div.sk-container {/* jupyter's `normalize.less` sets `[hidden] { display: none; }` but bootstrap.min.css set `[hidden] { display: none !important; }` so we also need the `!important` here to be able to override the default hidden behavior on the sphinx rendered scikit-learn.org. See: https://github.com/scikit-learn/scikit-learn/issues/21755 */display: inline-block !important;position: relative;}#sk-container-id-3 div.sk-text-repr-fallback {display: none;}</style><div id=\"sk-container-id-3\" class=\"sk-top-container\"><div class=\"sk-text-repr-fallback\"><pre>LogisticRegression()</pre><b>In a Jupyter environment, please rerun this cell to show the HTML representation or trust the notebook. <br />On GitHub, the HTML representation is unable to render, please try loading this page with nbviewer.org.</b></div><div class=\"sk-container\" hidden><div class=\"sk-item\"><div class=\"sk-estimator sk-toggleable\"><input class=\"sk-toggleable__control sk-hidden--visually\" id=\"sk-estimator-id-3\" type=\"checkbox\" checked><label for=\"sk-estimator-id-3\" class=\"sk-toggleable__label sk-toggleable__label-arrow\">LogisticRegression</label><div class=\"sk-toggleable__content\"><pre>LogisticRegression()</pre></div></div></div></div></div>"
      ],
      "text/plain": [
       "LogisticRegression()"
      ]
     },
     "execution_count": 48,
     "metadata": {},
     "output_type": "execute_result"
    }
   ],
   "source": [
    "y_train = np.nan_to_num(y_train, nan=0)\n",
    "y_test = np.nan_to_num(y_test, nan=0)\n",
    "model.fit(X_train, y_train)"
   ]
  },
  {
   "cell_type": "code",
   "execution_count": 49,
   "id": "07bf662a-805e-4de3-8bb7-bf8cdc5c587a",
   "metadata": {},
   "outputs": [
    {
     "data": {
      "text/html": [
       "<div>\n",
       "<style scoped>\n",
       "    .dataframe tbody tr th:only-of-type {\n",
       "        vertical-align: middle;\n",
       "    }\n",
       "\n",
       "    .dataframe tbody tr th {\n",
       "        vertical-align: top;\n",
       "    }\n",
       "\n",
       "    .dataframe thead th {\n",
       "        text-align: right;\n",
       "    }\n",
       "</style>\n",
       "<table border=\"1\" class=\"dataframe\">\n",
       "  <thead>\n",
       "    <tr style=\"text-align: right;\">\n",
       "      <th></th>\n",
       "      <th>Rainfall</th>\n",
       "    </tr>\n",
       "  </thead>\n",
       "  <tbody>\n",
       "    <tr>\n",
       "      <th>864</th>\n",
       "      <td>1.8</td>\n",
       "    </tr>\n",
       "    <tr>\n",
       "      <th>618</th>\n",
       "      <td>8.2</td>\n",
       "    </tr>\n",
       "    <tr>\n",
       "      <th>971</th>\n",
       "      <td>0.0</td>\n",
       "    </tr>\n",
       "    <tr>\n",
       "      <th>915</th>\n",
       "      <td>15.4</td>\n",
       "    </tr>\n",
       "    <tr>\n",
       "      <th>121</th>\n",
       "      <td>0.0</td>\n",
       "    </tr>\n",
       "    <tr>\n",
       "      <th>...</th>\n",
       "      <td>...</td>\n",
       "    </tr>\n",
       "    <tr>\n",
       "      <th>965</th>\n",
       "      <td>0.0</td>\n",
       "    </tr>\n",
       "    <tr>\n",
       "      <th>367</th>\n",
       "      <td>0.0</td>\n",
       "    </tr>\n",
       "    <tr>\n",
       "      <th>692</th>\n",
       "      <td>2.4</td>\n",
       "    </tr>\n",
       "    <tr>\n",
       "      <th>321</th>\n",
       "      <td>0.0</td>\n",
       "    </tr>\n",
       "    <tr>\n",
       "      <th>540</th>\n",
       "      <td>10.4</td>\n",
       "    </tr>\n",
       "  </tbody>\n",
       "</table>\n",
       "<p>250 rows × 1 columns</p>\n",
       "</div>"
      ],
      "text/plain": [
       "     Rainfall\n",
       "864       1.8\n",
       "618       8.2\n",
       "971       0.0\n",
       "915      15.4\n",
       "121       0.0\n",
       "..        ...\n",
       "965       0.0\n",
       "367       0.0\n",
       "692       2.4\n",
       "321       0.0\n",
       "540      10.4\n",
       "\n",
       "[250 rows x 1 columns]"
      ]
     },
     "execution_count": 49,
     "metadata": {},
     "output_type": "execute_result"
    }
   ],
   "source": [
    "X_test"
   ]
  },
  {
   "cell_type": "code",
   "execution_count": 50,
   "id": "2fafe753-3299-47e1-8f85-2e66e88871f1",
   "metadata": {},
   "outputs": [],
   "source": [
    "y_predicted = model.predict(X_test)"
   ]
  },
  {
   "cell_type": "code",
   "execution_count": 51,
   "id": "e7994c08-1664-4fa9-8c2d-0e7c23d8d12e",
   "metadata": {},
   "outputs": [
    {
     "data": {
      "text/plain": [
       "array([[7.80340221e-01, 2.19659779e-01],\n",
       "       [6.26088544e-01, 3.73911456e-01],\n",
       "       [8.14451713e-01, 1.85548287e-01],\n",
       "       [4.18063814e-01, 5.81936186e-01],\n",
       "       [8.14451713e-01, 1.85548287e-01],\n",
       "       [8.14451713e-01, 1.85548287e-01],\n",
       "       [8.14451713e-01, 1.85548287e-01],\n",
       "       [8.14451713e-01, 1.85548287e-01],\n",
       "       [8.14451713e-01, 1.85548287e-01],\n",
       "       [6.68967101e-01, 3.31032899e-01],\n",
       "       [6.20569755e-01, 3.79430245e-01],\n",
       "       [8.10873268e-01, 1.89126732e-01],\n",
       "       [8.14451713e-01, 1.85548287e-01],\n",
       "       [8.14451713e-01, 1.85548287e-01],\n",
       "       [8.10873268e-01, 1.89126732e-01],\n",
       "       [8.14451713e-01, 1.85548287e-01],\n",
       "       [8.14451713e-01, 1.85548287e-01],\n",
       "       [8.10873268e-01, 1.89126732e-01],\n",
       "       [8.14451713e-01, 1.85548287e-01],\n",
       "       [8.10873268e-01, 1.89126732e-01],\n",
       "       [7.96031353e-01, 2.03968647e-01],\n",
       "       [7.99821294e-01, 2.00178706e-01],\n",
       "       [8.14451713e-01, 1.85548287e-01],\n",
       "       [8.14451713e-01, 1.85548287e-01],\n",
       "       [8.14451713e-01, 1.85548287e-01],\n",
       "       [8.14451713e-01, 1.85548287e-01],\n",
       "       [7.76284613e-01, 2.23715387e-01],\n",
       "       [7.84342732e-01, 2.15657268e-01],\n",
       "       [6.09439349e-01, 3.90560651e-01],\n",
       "       [8.14451713e-01, 1.85548287e-01],\n",
       "       [8.14451713e-01, 1.85548287e-01],\n",
       "       [8.14451713e-01, 1.85548287e-01],\n",
       "       [8.14451713e-01, 1.85548287e-01],\n",
       "       [8.14451713e-01, 1.85548287e-01],\n",
       "       [8.14451713e-01, 1.85548287e-01],\n",
       "       [8.14451713e-01, 1.85548287e-01],\n",
       "       [8.07242143e-01, 1.92757857e-01],\n",
       "       [8.14451713e-01, 1.85548287e-01],\n",
       "       [7.37418623e-01, 2.62581377e-01],\n",
       "       [8.14451713e-01, 1.85548287e-01],\n",
       "       [7.99821294e-01, 2.00178706e-01],\n",
       "       [8.14451713e-01, 1.85548287e-01],\n",
       "       [8.14451713e-01, 1.85548287e-01],\n",
       "       [8.10873268e-01, 1.89126732e-01],\n",
       "       [8.14451713e-01, 1.85548287e-01],\n",
       "       [8.14451713e-01, 1.85548287e-01],\n",
       "       [8.14451713e-01, 1.85548287e-01],\n",
       "       [8.14451713e-01, 1.85548287e-01],\n",
       "       [8.14451713e-01, 1.85548287e-01],\n",
       "       [8.14451713e-01, 1.85548287e-01],\n",
       "       [8.14451713e-01, 1.85548287e-01],\n",
       "       [8.14451713e-01, 1.85548287e-01],\n",
       "       [8.14451713e-01, 1.85548287e-01],\n",
       "       [8.14451713e-01, 1.85548287e-01],\n",
       "       [8.14451713e-01, 1.85548287e-01],\n",
       "       [8.14451713e-01, 1.85548287e-01],\n",
       "       [8.14451713e-01, 1.85548287e-01],\n",
       "       [8.14451713e-01, 1.85548287e-01],\n",
       "       [8.14451713e-01, 1.85548287e-01],\n",
       "       [8.07242143e-01, 1.92757857e-01],\n",
       "       [6.94458082e-01, 3.05541918e-01],\n",
       "       [8.10873268e-01, 1.89126732e-01],\n",
       "       [8.98870241e-03, 9.91011298e-01],\n",
       "       [8.14451713e-01, 1.85548287e-01],\n",
       "       [7.96031353e-01, 2.03968647e-01],\n",
       "       [8.14451713e-01, 1.85548287e-01],\n",
       "       [6.79293781e-01, 3.20706219e-01],\n",
       "       [8.14451713e-01, 1.85548287e-01],\n",
       "       [8.10873268e-01, 1.89126732e-01],\n",
       "       [8.14451713e-01, 1.85548287e-01],\n",
       "       [8.14451713e-01, 1.85548287e-01],\n",
       "       [8.14451713e-01, 1.85548287e-01],\n",
       "       [6.79293781e-01, 3.20706219e-01],\n",
       "       [8.14451713e-01, 1.85548287e-01],\n",
       "       [8.14451713e-01, 1.85548287e-01],\n",
       "       [7.76284613e-01, 2.23715387e-01],\n",
       "       [8.14451713e-01, 1.85548287e-01],\n",
       "       [7.76284613e-01, 2.23715387e-01],\n",
       "       [8.14451713e-01, 1.85548287e-01],\n",
       "       [8.14451713e-01, 1.85548287e-01],\n",
       "       [5.58088098e-01, 4.41911902e-01],\n",
       "       [8.14451713e-01, 1.85548287e-01],\n",
       "       [8.14451713e-01, 1.85548287e-01],\n",
       "       [4.93711664e-01, 5.06288336e-01],\n",
       "       [8.10873268e-01, 1.89126732e-01],\n",
       "       [8.14451713e-01, 1.85548287e-01],\n",
       "       [8.14451713e-01, 1.85548287e-01],\n",
       "       [8.14451713e-01, 1.85548287e-01],\n",
       "       [8.14451713e-01, 1.85548287e-01],\n",
       "       [7.41944591e-01, 2.58055409e-01],\n",
       "       [8.50438743e-02, 9.14956126e-01],\n",
       "       [8.14451713e-01, 1.85548287e-01],\n",
       "       [8.14451713e-01, 1.85548287e-01],\n",
       "       [8.14451713e-01, 1.85548287e-01],\n",
       "       [8.14451713e-01, 1.85548287e-01],\n",
       "       [8.14451713e-01, 1.85548287e-01],\n",
       "       [7.55214013e-01, 2.44785987e-01],\n",
       "       [8.14451713e-01, 1.85548287e-01],\n",
       "       [8.07242143e-01, 1.92757857e-01],\n",
       "       [8.14451713e-01, 1.85548287e-01],\n",
       "       [8.14451713e-01, 1.85548287e-01],\n",
       "       [2.61943228e-01, 7.38056772e-01],\n",
       "       [8.14451713e-01, 1.85548287e-01],\n",
       "       [8.14451713e-01, 1.85548287e-01],\n",
       "       [8.14451713e-01, 1.85548287e-01],\n",
       "       [7.50842620e-01, 2.49157380e-01],\n",
       "       [6.68967101e-01, 3.31032899e-01],\n",
       "       [8.14451713e-01, 1.85548287e-01],\n",
       "       [8.14451713e-01, 1.85548287e-01],\n",
       "       [8.14451713e-01, 1.85548287e-01],\n",
       "       [8.14451713e-01, 1.85548287e-01],\n",
       "       [7.41944591e-01, 2.58055409e-01],\n",
       "       [7.55214013e-01, 2.44785987e-01],\n",
       "       [7.92188301e-01, 2.07811699e-01],\n",
       "       [8.14451713e-01, 1.85548287e-01],\n",
       "       [8.14451713e-01, 1.85548287e-01],\n",
       "       [9.41728677e-03, 9.90582713e-01],\n",
       "       [8.14451713e-01, 1.85548287e-01],\n",
       "       [8.14451713e-01, 1.85548287e-01],\n",
       "       [7.41944591e-01, 2.58055409e-01],\n",
       "       [8.14451713e-01, 1.85548287e-01],\n",
       "       [8.14451713e-01, 1.85548287e-01],\n",
       "       [8.14451713e-01, 1.85548287e-01],\n",
       "       [6.63741281e-01, 3.36258719e-01],\n",
       "       [8.14451713e-01, 1.85548287e-01],\n",
       "       [8.14451713e-01, 1.85548287e-01],\n",
       "       [8.14451713e-01, 1.85548287e-01],\n",
       "       [7.68014455e-01, 2.31985545e-01],\n",
       "       [7.80340221e-01, 2.19659779e-01],\n",
       "       [8.10873268e-01, 1.89126732e-01],\n",
       "       [8.14451713e-01, 1.85548287e-01],\n",
       "       [8.14451713e-01, 1.85548287e-01],\n",
       "       [8.14451713e-01, 1.85548287e-01],\n",
       "       [8.10873268e-01, 1.89126732e-01],\n",
       "       [8.14451713e-01, 1.85548287e-01],\n",
       "       [5.11338544e-01, 4.88661456e-01],\n",
       "       [8.14451713e-01, 1.85548287e-01],\n",
       "       [8.10873268e-01, 1.89126732e-01],\n",
       "       [8.14451713e-01, 1.85548287e-01],\n",
       "       [8.14451713e-01, 1.85548287e-01],\n",
       "       [8.07242143e-01, 1.92757857e-01],\n",
       "       [8.14451713e-01, 1.85548287e-01],\n",
       "       [7.80340221e-01, 2.19659779e-01],\n",
       "       [8.14451713e-01, 1.85548287e-01],\n",
       "       [8.14451713e-01, 1.85548287e-01],\n",
       "       [8.14451713e-01, 1.85548287e-01],\n",
       "       [8.14451713e-01, 1.85548287e-01],\n",
       "       [8.14451713e-01, 1.85548287e-01],\n",
       "       [7.88292097e-01, 2.11707903e-01],\n",
       "       [8.10873268e-01, 1.89126732e-01],\n",
       "       [7.55214013e-01, 2.44785987e-01],\n",
       "       [8.14451713e-01, 1.85548287e-01],\n",
       "       [4.76100403e-01, 5.23899597e-01],\n",
       "       [8.14451713e-01, 1.85548287e-01],\n",
       "       [8.14451713e-01, 1.85548287e-01],\n",
       "       [8.14451713e-01, 1.85548287e-01],\n",
       "       [2.99884353e-01, 7.00115647e-01],\n",
       "       [8.14451713e-01, 1.85548287e-01],\n",
       "       [8.14451713e-01, 1.85548287e-01],\n",
       "       [8.14451713e-01, 1.85548287e-01],\n",
       "       [7.55214013e-01, 2.44785987e-01],\n",
       "       [8.14451713e-01, 1.85548287e-01],\n",
       "       [8.14451713e-01, 1.85548287e-01],\n",
       "       [8.14451713e-01, 1.85548287e-01],\n",
       "       [7.37418623e-01, 2.62581377e-01],\n",
       "       [8.14451713e-01, 1.85548287e-01],\n",
       "       [8.14451713e-01, 1.85548287e-01],\n",
       "       [8.14451713e-01, 1.85548287e-01],\n",
       "       [8.14451713e-01, 1.85548287e-01],\n",
       "       [8.14451713e-01, 1.85548287e-01],\n",
       "       [7.32841858e-01, 2.67158142e-01],\n",
       "       [8.10873268e-01, 1.89126732e-01],\n",
       "       [8.14451713e-01, 1.85548287e-01],\n",
       "       [8.14451713e-01, 1.85548287e-01],\n",
       "       [8.14451713e-01, 1.85548287e-01],\n",
       "       [8.03558192e-01, 1.96441808e-01],\n",
       "       [8.14451713e-01, 1.85548287e-01],\n",
       "       [8.14451713e-01, 1.85548287e-01],\n",
       "       [8.14451713e-01, 1.85548287e-01],\n",
       "       [7.88292097e-01, 2.11707903e-01],\n",
       "       [8.14451713e-01, 1.85548287e-01],\n",
       "       [8.14451713e-01, 1.85548287e-01],\n",
       "       [1.05207862e-01, 8.94792138e-01],\n",
       "       [8.14451713e-01, 1.85548287e-01],\n",
       "       [8.14451713e-01, 1.85548287e-01],\n",
       "       [8.14451713e-01, 1.85548287e-01],\n",
       "       [7.99821294e-01, 2.00178706e-01],\n",
       "       [8.14451713e-01, 1.85548287e-01],\n",
       "       [8.14451713e-01, 1.85548287e-01],\n",
       "       [7.80340221e-01, 2.19659779e-01],\n",
       "       [8.14451713e-01, 1.85548287e-01],\n",
       "       [7.96031353e-01, 2.03968647e-01],\n",
       "       [8.10873268e-01, 1.89126732e-01],\n",
       "       [8.14451713e-01, 1.85548287e-01],\n",
       "       [5.28937272e-01, 4.71062728e-01],\n",
       "       [8.14451713e-01, 1.85548287e-01],\n",
       "       [7.41944591e-01, 2.58055409e-01],\n",
       "       [7.84342732e-01, 2.15657268e-01],\n",
       "       [8.14451713e-01, 1.85548287e-01],\n",
       "       [7.96031353e-01, 2.03968647e-01],\n",
       "       [7.28214722e-01, 2.71785278e-01],\n",
       "       [8.14451713e-01, 1.85548287e-01],\n",
       "       [8.14451713e-01, 1.85548287e-01],\n",
       "       [8.14451713e-01, 1.85548287e-01],\n",
       "       [8.14451713e-01, 1.85548287e-01],\n",
       "       [7.41944591e-01, 2.58055409e-01],\n",
       "       [4.12356489e-01, 5.87643511e-01],\n",
       "       [8.14451713e-01, 1.85548287e-01],\n",
       "       [8.14451713e-01, 1.85548287e-01],\n",
       "       [8.14451713e-01, 1.85548287e-01],\n",
       "       [8.14451713e-01, 1.85548287e-01],\n",
       "       [3.79368908e-05, 9.99962063e-01],\n",
       "       [8.14451713e-01, 1.85548287e-01],\n",
       "       [3.35522983e-01, 6.64477017e-01],\n",
       "       [8.14451713e-01, 1.85548287e-01],\n",
       "       [8.14451713e-01, 1.85548287e-01],\n",
       "       [8.14451713e-01, 1.85548287e-01],\n",
       "       [8.14451713e-01, 1.85548287e-01],\n",
       "       [8.14451713e-01, 1.85548287e-01],\n",
       "       [8.14451713e-01, 1.85548287e-01],\n",
       "       [7.46419374e-01, 2.53580626e-01],\n",
       "       [8.14451713e-01, 1.85548287e-01],\n",
       "       [7.92188301e-01, 2.07811699e-01],\n",
       "       [8.07242143e-01, 1.92757857e-01],\n",
       "       [8.10873268e-01, 1.89126732e-01],\n",
       "       [8.14451713e-01, 1.85548287e-01],\n",
       "       [8.14451713e-01, 1.85548287e-01],\n",
       "       [8.14451713e-01, 1.85548287e-01],\n",
       "       [8.14451713e-01, 1.85548287e-01],\n",
       "       [8.14451713e-01, 1.85548287e-01],\n",
       "       [8.14451713e-01, 1.85548287e-01],\n",
       "       [8.14451713e-01, 1.85548287e-01],\n",
       "       [7.28214722e-01, 2.71785278e-01],\n",
       "       [7.76284613e-01, 2.23715387e-01],\n",
       "       [8.10873268e-01, 1.89126732e-01],\n",
       "       [8.14451713e-01, 1.85548287e-01],\n",
       "       [8.14451713e-01, 1.85548287e-01],\n",
       "       [8.14451713e-01, 1.85548287e-01],\n",
       "       [8.14451713e-01, 1.85548287e-01],\n",
       "       [7.50842620e-01, 2.49157380e-01],\n",
       "       [8.14451713e-01, 1.85548287e-01],\n",
       "       [8.14451713e-01, 1.85548287e-01],\n",
       "       [8.14451713e-01, 1.85548287e-01],\n",
       "       [8.14451713e-01, 1.85548287e-01],\n",
       "       [8.14451713e-01, 1.85548287e-01],\n",
       "       [8.14451713e-01, 1.85548287e-01],\n",
       "       [8.14451713e-01, 1.85548287e-01],\n",
       "       [7.68014455e-01, 2.31985545e-01],\n",
       "       [8.14451713e-01, 1.85548287e-01],\n",
       "       [5.63877000e-01, 4.36123000e-01]])"
      ]
     },
     "execution_count": 51,
     "metadata": {},
     "output_type": "execute_result"
    }
   ],
   "source": [
    "model.predict_proba(X_test)"
   ]
  },
  {
   "cell_type": "code",
   "execution_count": 53,
   "id": "9cb16921-1652-4426-af04-190bb2e3a3e3",
   "metadata": {},
   "outputs": [
    {
     "data": {
      "text/plain": [
       "0.808"
      ]
     },
     "execution_count": 53,
     "metadata": {},
     "output_type": "execute_result"
    }
   ],
   "source": [
    "model.score(X_test,y_test)"
   ]
  },
  {
   "cell_type": "code",
   "execution_count": 54,
   "id": "f6e8866e-7952-47b4-b881-15e4d0c9d236",
   "metadata": {},
   "outputs": [
    {
     "data": {
      "text/plain": [
       "array([0., 0., 0., 1., 0., 0., 0., 0., 0., 0., 0., 0., 0., 0., 0., 0., 0.,\n",
       "       0., 0., 0., 0., 0., 0., 0., 0., 0., 0., 0., 0., 0., 0., 0., 0., 0.,\n",
       "       0., 0., 0., 0., 0., 0., 0., 0., 0., 0., 0., 0., 0., 0., 0., 0., 0.,\n",
       "       0., 0., 0., 0., 0., 0., 0., 0., 0., 0., 0., 1., 0., 0., 0., 0., 0.,\n",
       "       0., 0., 0., 0., 0., 0., 0., 0., 0., 0., 0., 0., 0., 0., 0., 1., 0.,\n",
       "       0., 0., 0., 0., 0., 1., 0., 0., 0., 0., 0., 0., 0., 0., 0., 0., 1.,\n",
       "       0., 0., 0., 0., 0., 0., 0., 0., 0., 0., 0., 0., 0., 0., 1., 0., 0.,\n",
       "       0., 0., 0., 0., 0., 0., 0., 0., 0., 0., 0., 0., 0., 0., 0., 0., 0.,\n",
       "       0., 0., 0., 0., 0., 0., 0., 0., 0., 0., 0., 0., 0., 0., 0., 0., 1.,\n",
       "       0., 0., 0., 1., 0., 0., 0., 0., 0., 0., 0., 0., 0., 0., 0., 0., 0.,\n",
       "       0., 0., 0., 0., 0., 0., 0., 0., 0., 0., 0., 0., 1., 0., 0., 0., 0.,\n",
       "       0., 0., 0., 0., 0., 0., 0., 0., 0., 0., 0., 0., 0., 0., 0., 0., 0.,\n",
       "       0., 0., 1., 0., 0., 0., 0., 1., 0., 1., 0., 0., 0., 0., 0., 0., 0.,\n",
       "       0., 0., 0., 0., 0., 0., 0., 0., 0., 0., 0., 0., 0., 0., 0., 0., 0.,\n",
       "       0., 0., 0., 0., 0., 0., 0., 0., 0., 0., 0., 0.])"
      ]
     },
     "execution_count": 54,
     "metadata": {},
     "output_type": "execute_result"
    }
   ],
   "source": [
    "y_predicted"
   ]
  },
  {
   "cell_type": "code",
   "execution_count": 55,
   "id": "1ed47cd8-0006-4838-a439-6ed5d42c0a99",
   "metadata": {},
   "outputs": [
    {
     "data": {
      "text/plain": [
       "array([[0.11752771]])"
      ]
     },
     "execution_count": 55,
     "metadata": {},
     "output_type": "execute_result"
    }
   ],
   "source": [
    "model.coef_"
   ]
  },
  {
   "cell_type": "code",
   "execution_count": 56,
   "id": "230ed4a8-2757-401f-a5a3-69364b3c637a",
   "metadata": {},
   "outputs": [
    {
     "data": {
      "text/plain": [
       "array([-1.47919999])"
      ]
     },
     "execution_count": 56,
     "metadata": {},
     "output_type": "execute_result"
    }
   ],
   "source": [
    "model.intercept_"
   ]
  }
 ],
 "metadata": {
  "kernelspec": {
   "display_name": "Python 3 (ipykernel)",
   "language": "python",
   "name": "python3"
  },
  "language_info": {
   "codemirror_mode": {
    "name": "ipython",
    "version": 3
   },
   "file_extension": ".py",
   "mimetype": "text/x-python",
   "name": "python",
   "nbconvert_exporter": "python",
   "pygments_lexer": "ipython3",
   "version": "3.12.0"
  }
 },
 "nbformat": 4,
 "nbformat_minor": 5
}
